{
 "cells": [
  {
   "cell_type": "code",
   "execution_count": 98,
   "metadata": {
    "collapsed": false,
    "deletable": true,
    "editable": true
   },
   "outputs": [],
   "source": [
    "import tensorflow as tf\n",
    "from tensorflow.keras.models import Sequential\n",
    "from tensorflow.keras.layers import Dense, Dropout, Activation, Flatten, Conv2D, MaxPooling2D\n",
    "import pickle\n",
    "\n",
    "X = pickle.load(open(\"X.pickle\", \"rb\"))\n",
    "y = pickle.load(open(\"y.pickle\", \"rb\"))"
   ]
  },
  {
   "cell_type": "code",
   "execution_count": 99,
   "metadata": {
    "collapsed": false,
    "deletable": true,
    "editable": true
   },
   "outputs": [],
   "source": [
    "# Pierwszą rzeczą jaką robimi jest normalizacja danych\n",
    "# Najłatwiej jest to zrobić przez skalowanie danych w obrazie\n",
    "# Wiemy że najmniejszą liczbą jest 0 a największą 255 (ilość kolorów piksela?)\n",
    "\n",
    "\n",
    "# Można by użyć czegoś lepszego np. tf.keras.utils.normalize, ale na razie starczy nam prosty sposób\n",
    "# Albo to co poniżej pewnie też by zadziałało, tylko w innej postaci tablicy\n",
    "# from sklearn.preprocessing import StandardScaler\n",
    "# scaler = StandardScaler()\n",
    "# X = scaler.fit_transform(X)\n",
    "\n",
    "X = X/255.0"
   ]
  },
  {
   "cell_type": "code",
   "execution_count": 100,
   "metadata": {
    "collapsed": false,
    "deletable": true,
    "editable": true
   },
   "outputs": [],
   "source": [
    "model = Sequential()\n",
    "\n",
    "# print(X.shape[1:]) # - określa kształt jaki wrzucamy do input_shape (50, 50, 1)\n",
    "# czyli obraz 50x50, gdzie 1 oznacza obraz czarno-biały; gdyby dać 3 byłby kolorowy\n",
    "\n",
    "# filters - oznacza rozmiar przestrzeni wyjściowej; Dzieli obraz na 64 okienka (czyli grid 8x8 ??)\n",
    "\n",
    "# kernel_size - wielkość grida którym będziemy skanować obrazek, czyli grid o wielkości 3x3\n",
    "\n",
    "model.add(Conv2D(filters = 64, kernel_size = (3,3), input_shape = X.shape[1:]))\n",
    "model.add(Activation(\"relu\")) # zamiast dodać funkcje aktywacji tutaj można zrobić Conv2D(64, (3, 3), activation='relu')\n",
    "model.add(MaxPooling2D(pool_size=(2,2)))# wykorzystujemy MaxPooling aby wybraź maksymalną wartość z grida 2x2 i tak wybiera dla wszystkich gridów znajdujących się na obrazku\n",
    "\n",
    "# kopiujemy taką samą warstwę, tylko w tym przypadku nie potrzebujemy input_shape, który daje się tylko w pierwszej warstwie\n",
    "model.add(Conv2D(64, (3,3))) # używanie nazw `filters`, `kernel_size` jest opcjonalne\n",
    "model.add(Activation(\"relu\")) \n",
    "model.add(MaxPooling2D(pool_size=(2,2)))\n",
    "\n",
    "# Dense layer, jest jednowymiarową tablicą (a nie tak jak wyżej kilkuwymiarową talicą)\n",
    "# dlatego przed użyciem Dense trzba przekształcić 2 wymiarową tablice do 1 wymiaru\n",
    "model.add(Flatten())\n",
    "\n",
    "# Przy tym datasecie najprawdopodobniej nawet nie potrzeba tego używać aby model działał dobrze\n",
    "model.add(Dense(64)) #TODO: czym było Dense?\n",
    "\n",
    "# w tym przypadku podaje się 1, ponieważ mamy bipolarne dane, czyli 2 klasy\n",
    "# gdybyśmy mieli na wyniku więcej klas np. 10 trzeba by było podać Dense(10)\n",
    "model.add(Dense(1)) \n",
    "model.add(Activation(\"sigmoid\"))# softmax chyba dla wielu klas??"
   ]
  },
  {
   "cell_type": "code",
   "execution_count": 101,
   "metadata": {
    "collapsed": true,
    "deletable": true,
    "editable": true
   },
   "outputs": [],
   "source": [
    "# Przykład z udemy\n",
    "\n",
    "# model = Sequential()\n",
    "# model.add(Conv2D(32, kernel_size=(3, 3),\n",
    "#                  activation='relu',\n",
    "#                  input_shape=input_shape))\n",
    "# # 64 3x3 kernels\n",
    "# model.add(Conv2D(64, (3, 3), activation='relu'))\n",
    "# # Reduce by taking the max of each 2x2 block\n",
    "# model.add(MaxPooling2D(pool_size=(2, 2)))\n",
    "# # Dropout to avoid overfitting\n",
    "# model.add(Dropout(0.25))\n",
    "# # Flatten the results to one dimension for passing into our final layer\n",
    "# model.add(Flatten())\n",
    "# # A hidden layer to learn with\n",
    "# model.add(Dense(128, activation='relu'))\n",
    "# # Another dropout\n",
    "# model.add(Dropout(0.5))\n",
    "# # Final categorization from 0-9 with softmax\n",
    "# model.add(Dense(10, activation='softmax'))"
   ]
  },
  {
   "cell_type": "code",
   "execution_count": 89,
   "metadata": {
    "collapsed": false,
    "deletable": true,
    "editable": true
   },
   "outputs": [
    {
     "name": "stdout",
     "output_type": "stream",
     "text": [
      "_________________________________________________________________\n",
      "Layer (type)                 Output Shape              Param #   \n",
      "=================================================================\n",
      "conv2d_24 (Conv2D)           (None, 48, 48, 64)        640       \n",
      "_________________________________________________________________\n",
      "activation_28 (Activation)   (None, 48, 48, 64)        0         \n",
      "_________________________________________________________________\n",
      "max_pooling2d_20 (MaxPooling (None, 24, 24, 64)        0         \n",
      "_________________________________________________________________\n",
      "conv2d_25 (Conv2D)           (None, 22, 22, 64)        36928     \n",
      "_________________________________________________________________\n",
      "activation_29 (Activation)   (None, 22, 22, 64)        0         \n",
      "_________________________________________________________________\n",
      "max_pooling2d_21 (MaxPooling (None, 11, 11, 64)        0         \n",
      "_________________________________________________________________\n",
      "flatten_10 (Flatten)         (None, 7744)              0         \n",
      "_________________________________________________________________\n",
      "dense_17 (Dense)             (None, 64)                495680    \n",
      "_________________________________________________________________\n",
      "dense_18 (Dense)             (None, 1)                 65        \n",
      "_________________________________________________________________\n",
      "activation_30 (Activation)   (None, 1)                 0         \n",
      "=================================================================\n",
      "Total params: 533,313\n",
      "Trainable params: 533,313\n",
      "Non-trainable params: 0\n",
      "_________________________________________________________________\n"
     ]
    }
   ],
   "source": [
    "model.summary()"
   ]
  },
  {
   "cell_type": "code",
   "execution_count": 90,
   "metadata": {
    "collapsed": true,
    "deletable": true,
    "editable": true
   },
   "outputs": [],
   "source": [
    "model.compile(loss=\"binary_crossentropy\", #bo tak zaleca dokumentacj keras, dla wielu klas jest categorical_crossentropy\n",
    "             optimizer=\"adam\", # bo jest najlepszy\n",
    "             metrics=['accuracy']) # bo tak ??"
   ]
  },
  {
   "cell_type": "code",
   "execution_count": 92,
   "metadata": {
    "collapsed": false,
    "deletable": true,
    "editable": true
   },
   "outputs": [
    {
     "ename": "ValueError",
     "evalue": "Error when checking target: expected activation_30 to have 2 dimensions, but got array with shape (24946, 50, 50, 1)",
     "output_type": "error",
     "traceback": [
      "\u001b[0;31m---------------------------------------------------------------------------\u001b[0m",
      "\u001b[0;31mValueError\u001b[0m                                Traceback (most recent call last)",
      "\u001b[0;32m<ipython-input-92-e6c33d555142>\u001b[0m in \u001b[0;36m<module>\u001b[0;34m()\u001b[0m\n\u001b[1;32m      2\u001b[0m          \u001b[0mbatch_size\u001b[0m\u001b[0;34m=\u001b[0m\u001b[0;36m32\u001b[0m\u001b[0;34m,\u001b[0m \u001b[0;31m#ile zdjęć na raz będziemy przetwarzać, najlepiej dać pomiędzy 20 - 200, w zależności jak dużo ma się dataset\u001b[0m\u001b[0;34m\u001b[0m\u001b[0m\n\u001b[1;32m      3\u001b[0m          \u001b[0mvalidation_split\u001b[0m\u001b[0;34m=\u001b[0m\u001b[0;36m0.1\u001b[0m\u001b[0;34m,\u001b[0m \u001b[0;31m# 10% - ilość danych które nie będą brane do treningu, ale zostaną wykorzystane do sprawdzenia poprawności modelu\u001b[0m\u001b[0;34m\u001b[0m\u001b[0m\n\u001b[0;32m----> 4\u001b[0;31m          \u001b[0mepochs\u001b[0m\u001b[0;34m=\u001b[0m\u001b[0;36m10\u001b[0m \u001b[0;31m# ilość epok, a epoka jest iteracją w której są zawarte dane X i y\u001b[0m\u001b[0;34m\u001b[0m\u001b[0m\n\u001b[0m\u001b[1;32m      5\u001b[0m         )\n\u001b[1;32m      6\u001b[0m \u001b[0;34m\u001b[0m\u001b[0m\n",
      "\u001b[0;32m/home/dariusz/.local/share/canopy/edm/envs/User/lib/python3.5/site-packages/tensorflow/python/keras/engine/training.py\u001b[0m in \u001b[0;36mfit\u001b[0;34m(self, x, y, batch_size, epochs, verbose, callbacks, validation_split, validation_data, shuffle, class_weight, sample_weight, initial_epoch, steps_per_epoch, validation_steps, max_queue_size, workers, use_multiprocessing, **kwargs)\u001b[0m\n\u001b[1;32m   1534\u001b[0m         \u001b[0msteps_name\u001b[0m\u001b[0;34m=\u001b[0m\u001b[0;34m'steps_per_epoch'\u001b[0m\u001b[0;34m,\u001b[0m\u001b[0;34m\u001b[0m\u001b[0m\n\u001b[1;32m   1535\u001b[0m         \u001b[0msteps\u001b[0m\u001b[0;34m=\u001b[0m\u001b[0msteps_per_epoch\u001b[0m\u001b[0;34m,\u001b[0m\u001b[0;34m\u001b[0m\u001b[0m\n\u001b[0;32m-> 1536\u001b[0;31m         validation_split=validation_split)\n\u001b[0m\u001b[1;32m   1537\u001b[0m \u001b[0;34m\u001b[0m\u001b[0m\n\u001b[1;32m   1538\u001b[0m     \u001b[0;31m# Prepare validation data.\u001b[0m\u001b[0;34m\u001b[0m\u001b[0;34m\u001b[0m\u001b[0m\n",
      "\u001b[0;32m/home/dariusz/.local/share/canopy/edm/envs/User/lib/python3.5/site-packages/tensorflow/python/keras/engine/training.py\u001b[0m in \u001b[0;36m_standardize_user_data\u001b[0;34m(self, x, y, sample_weight, class_weight, batch_size, check_steps, steps_name, steps, validation_split)\u001b[0m\n\u001b[1;32m    990\u001b[0m         \u001b[0mx\u001b[0m\u001b[0;34m,\u001b[0m \u001b[0my\u001b[0m\u001b[0;34m,\u001b[0m \u001b[0msample_weight\u001b[0m \u001b[0;34m=\u001b[0m \u001b[0mnext_element\u001b[0m\u001b[0;34m\u001b[0m\u001b[0m\n\u001b[1;32m    991\u001b[0m     x, y, sample_weights = self._standardize_weights(x, y, sample_weight,\n\u001b[0;32m--> 992\u001b[0;31m                                                      class_weight, batch_size)\n\u001b[0m\u001b[1;32m    993\u001b[0m     \u001b[0;32mreturn\u001b[0m \u001b[0mx\u001b[0m\u001b[0;34m,\u001b[0m \u001b[0my\u001b[0m\u001b[0;34m,\u001b[0m \u001b[0msample_weights\u001b[0m\u001b[0;34m\u001b[0m\u001b[0m\n\u001b[1;32m    994\u001b[0m \u001b[0;34m\u001b[0m\u001b[0m\n",
      "\u001b[0;32m/home/dariusz/.local/share/canopy/edm/envs/User/lib/python3.5/site-packages/tensorflow/python/keras/engine/training.py\u001b[0m in \u001b[0;36m_standardize_weights\u001b[0;34m(self, x, y, sample_weight, class_weight, batch_size)\u001b[0m\n\u001b[1;32m   1152\u001b[0m           \u001b[0mfeed_output_shapes\u001b[0m\u001b[0;34m,\u001b[0m\u001b[0;34m\u001b[0m\u001b[0m\n\u001b[1;32m   1153\u001b[0m           \u001b[0mcheck_batch_axis\u001b[0m\u001b[0;34m=\u001b[0m\u001b[0;32mFalse\u001b[0m\u001b[0;34m,\u001b[0m  \u001b[0;31m# Don't enforce the batch size.\u001b[0m\u001b[0;34m\u001b[0m\u001b[0m\n\u001b[0;32m-> 1154\u001b[0;31m           exception_prefix='target')\n\u001b[0m\u001b[1;32m   1155\u001b[0m \u001b[0;34m\u001b[0m\u001b[0m\n\u001b[1;32m   1156\u001b[0m       \u001b[0;31m# Generate sample-wise weight values given the `sample_weight` and\u001b[0m\u001b[0;34m\u001b[0m\u001b[0;34m\u001b[0m\u001b[0m\n",
      "\u001b[0;32m/home/dariusz/.local/share/canopy/edm/envs/User/lib/python3.5/site-packages/tensorflow/python/keras/engine/training_utils.py\u001b[0m in \u001b[0;36mstandardize_input_data\u001b[0;34m(data, names, shapes, check_batch_axis, exception_prefix)\u001b[0m\n\u001b[1;32m    321\u001b[0m                            \u001b[0;34m': expected '\u001b[0m \u001b[0;34m+\u001b[0m \u001b[0mnames\u001b[0m\u001b[0;34m[\u001b[0m\u001b[0mi\u001b[0m\u001b[0;34m]\u001b[0m \u001b[0;34m+\u001b[0m \u001b[0;34m' to have '\u001b[0m \u001b[0;34m+\u001b[0m\u001b[0;34m\u001b[0m\u001b[0m\n\u001b[1;32m    322\u001b[0m                            \u001b[0mstr\u001b[0m\u001b[0;34m(\u001b[0m\u001b[0mlen\u001b[0m\u001b[0;34m(\u001b[0m\u001b[0mshape\u001b[0m\u001b[0;34m)\u001b[0m\u001b[0;34m)\u001b[0m \u001b[0;34m+\u001b[0m \u001b[0;34m' dimensions, but got array '\u001b[0m\u001b[0;34m\u001b[0m\u001b[0m\n\u001b[0;32m--> 323\u001b[0;31m                            'with shape ' + str(data_shape))\n\u001b[0m\u001b[1;32m    324\u001b[0m         \u001b[0;32mif\u001b[0m \u001b[0;32mnot\u001b[0m \u001b[0mcheck_batch_axis\u001b[0m\u001b[0;34m:\u001b[0m\u001b[0;34m\u001b[0m\u001b[0m\n\u001b[1;32m    325\u001b[0m           \u001b[0mdata_shape\u001b[0m \u001b[0;34m=\u001b[0m \u001b[0mdata_shape\u001b[0m\u001b[0;34m[\u001b[0m\u001b[0;36m1\u001b[0m\u001b[0;34m:\u001b[0m\u001b[0;34m]\u001b[0m\u001b[0;34m\u001b[0m\u001b[0m\n",
      "\u001b[0;31mValueError\u001b[0m: Error when checking target: expected activation_30 to have 2 dimensions, but got array with shape (24946, 50, 50, 1)"
     ]
    }
   ],
   "source": [
    "model.fit(X, y,\n",
    "         batch_size=32, #ile zdjęć na raz będziemy przetwarzać, najlepiej dać pomiędzy 20 - 200, w zależności jak dużo ma się dataset\n",
    "         validation_split=0.1, # 10% - ilość danych które nie będą brane do treningu, ale zostaną wykorzystane do sprawdzenia poprawności modelu\n",
    "         epochs=10 # ilość epok, a epoka jest iteracją w której są zawarte dane X i y\n",
    "        )\n",
    "\n",
    "\n",
    "# udemy zamiast validation_fit robiło się validation_data=(test_images, test_labels)"
   ]
  },
  {
   "cell_type": "code",
   "execution_count": null,
   "metadata": {
    "collapsed": true,
    "deletable": true,
    "editable": true
   },
   "outputs": [],
   "source": []
  },
  {
   "cell_type": "code",
   "execution_count": null,
   "metadata": {
    "collapsed": true,
    "deletable": true,
    "editable": true
   },
   "outputs": [],
   "source": []
  }
 ],
 "metadata": {
  "kernelspec": {
   "display_name": "Python 3",
   "language": "python",
   "name": "python3"
  },
  "language_info": {
   "codemirror_mode": {
    "name": "ipython",
    "version": 3
   },
   "file_extension": ".py",
   "mimetype": "text/x-python",
   "name": "python",
   "nbconvert_exporter": "python",
   "pygments_lexer": "ipython3",
   "version": "3.5.2"
  }
 },
 "nbformat": 4,
 "nbformat_minor": 2
}
